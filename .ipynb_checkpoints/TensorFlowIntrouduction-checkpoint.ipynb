{
 "cells": [
  {
   "cell_type": "code",
   "execution_count": 27,
   "id": "8718ffba-2223-4712-8734-287f6acf0f1e",
   "metadata": {},
   "outputs": [],
   "source": [
    "import os\n",
    "os.environ['TF_CPP_MIN_LOG_LEVEL'] = '2'  # Désactive les messages d'information et d'avertissement\n",
    "\n",
    "import tensorflow.compat.v1 as tf\n",
    "tf.disable_v2_behavior()"
   ]
  },
  {
   "cell_type": "code",
   "execution_count": 28,
   "id": "96dc16bc-ec45-4fa5-9a53-1c474d8d062b",
   "metadata": {},
   "outputs": [],
   "source": [
    "# Variables\n",
    "x = tf.Variable(3, name=\"x\")\n",
    "y = tf.Variable(4, name=\"y\")\n",
    "# Opération\n",
    "f = x*x*y + y + 2\n",
    "# Aucun calcul tant qu'on ne le demande pas explicitement"
   ]
  },
  {
   "cell_type": "code",
   "execution_count": 29,
   "id": "f66ae072-8e8c-4224-b4d1-9ab1592a83d6",
   "metadata": {},
   "outputs": [
    {
     "name": "stdout",
     "output_type": "stream",
     "text": [
      "42\n"
     ]
    }
   ],
   "source": [
    "# Ouverture de la session\n",
    "sess = tf.Session()\n",
    "# Initialisation des variables\n",
    "sess.run(x.initializer) \n",
    "sess.run(y.initializer)\n",
    "# Calcul\n",
    "result = sess.run(f)\n",
    "# Fermeture de la session\n",
    "sess.close()\n",
    "print(result)"
   ]
  },
  {
   "cell_type": "code",
   "execution_count": 30,
   "id": "84fff26f-9117-42f0-9374-24555218a2be",
   "metadata": {},
   "outputs": [
    {
     "name": "stdout",
     "output_type": "stream",
     "text": [
      "42\n"
     ]
    }
   ],
   "source": [
    "with tf.Session() as sess:\n",
    "    x.initializer.run()\n",
    "    y.initializer.run()\n",
    "    result = f.eval()\n",
    "print(result)"
   ]
  },
  {
   "cell_type": "code",
   "execution_count": 31,
   "id": "ab49b800-1828-4c30-b9e4-87ed04fc62f8",
   "metadata": {},
   "outputs": [],
   "source": [
    "init =  tf.global_variables_initializer()  # Prépare l'initialisation\n",
    "\n",
    "with tf.Session() as sess : \n",
    "    init.run()  # Initialise réellement toutes les variables\n",
    "    result = f.eval()"
   ]
  },
  {
   "cell_type": "code",
   "execution_count": 32,
   "id": "adcc3ca4-e7bf-42b9-bad7-4c809c03b6fe",
   "metadata": {},
   "outputs": [
    {
     "name": "stdout",
     "output_type": "stream",
     "text": [
      "42\n"
     ]
    }
   ],
   "source": [
    "# Interactive Session\n",
    "sess = tf.InteractiveSession()\n",
    "init.run()\n",
    "result = f.eval()\n",
    "print(result)"
   ]
  },
  {
   "cell_type": "code",
   "execution_count": 33,
   "id": "d574228c-0e39-429c-97a9-f61d3fd4a977",
   "metadata": {},
   "outputs": [],
   "source": [
    "sess.close()"
   ]
  },
  {
   "cell_type": "code",
   "execution_count": 34,
   "id": "723272a2-6f99-40b9-9491-91049cd7c77d",
   "metadata": {},
   "outputs": [
    {
     "data": {
      "text/plain": [
       "True"
      ]
     },
     "execution_count": 34,
     "metadata": {},
     "output_type": "execute_result"
    }
   ],
   "source": [
    "x1 = tf.Variable(1)\n",
    "x1.graph is tf.get_default_graph()"
   ]
  },
  {
   "cell_type": "code",
   "execution_count": 35,
   "id": "5c1d45d9-2348-4352-9660-c8dac03201d9",
   "metadata": {},
   "outputs": [
    {
     "name": "stdout",
     "output_type": "stream",
     "text": [
      "x2 appartient à graph\n"
     ]
    }
   ],
   "source": [
    "graph = tf.Graph()\n",
    "\n",
    "# En dehors de ce bloc, le graphe par défaut redevient le graphe global\n",
    "with graph.as_default():\n",
    "    x2 = tf.Variable(2)\n",
    "\n",
    "if x2.graph is graph:\n",
    "    print(\"x2 appartient à graph\")\n",
    "else:\n",
    "    print(\"x2 n'appartient pas à graph\")"
   ]
  },
  {
   "cell_type": "code",
   "execution_count": 36,
   "id": "5876d08c-b902-402e-9423-315b77242314",
   "metadata": {},
   "outputs": [
    {
     "name": "stdout",
     "output_type": "stream",
     "text": [
      "x2 n'appartient pas au graphe par défaut\n"
     ]
    }
   ],
   "source": [
    "if x2.graph is tf.get_default_graph():\n",
    "    print(\"x2 appartient au graphe par défaut\")\n",
    "else:\n",
    "    print(\"x2 n'appartient pas au graphe par défaut\")"
   ]
  },
  {
   "cell_type": "code",
   "execution_count": 37,
   "id": "b32d02c1-957c-4990-a8cb-a86e288a7894",
   "metadata": {},
   "outputs": [
    {
     "name": "stdout",
     "output_type": "stream",
     "text": [
      "10\n",
      "15\n"
     ]
    }
   ],
   "source": [
    "w = tf.constant(3)\n",
    "x = w + 2\n",
    "y = x + 5\n",
    "z = x * 3\n",
    "\n",
    "with tf.Session() as sess:\n",
    "    print(y.eval())\n",
    "    print(z.eval())\n",
    "# Dans ce code, w et x sont calculées à deux reprises"
   ]
  },
  {
   "cell_type": "code",
   "execution_count": 38,
   "id": "1b9a5dbc-c358-41ef-ba7c-7e5e0a92ce1a",
   "metadata": {},
   "outputs": [
    {
     "name": "stdout",
     "output_type": "stream",
     "text": [
      "10\n",
      "15\n"
     ]
    }
   ],
   "source": [
    "with tf.Session() as sess:\n",
    "    y_val, z_val = sess.run([y, z])\n",
    "    print(y_val)\n",
    "    print(z_val)\n",
    "# Cette fois, w et x ne sont calculées qu'une seule fois, au cours d'une seule exécution du graphe"
   ]
  },
  {
   "cell_type": "code",
   "execution_count": 39,
   "id": "58a73fb3-2751-4a5c-bf9f-dbbbe64831c6",
   "metadata": {},
   "outputs": [],
   "source": [
    "A = tf.constant([[1, 2], [3, 4]], dtype=tf.float32)\n",
    "B = tf.constant([[5, 6, 7], [8, 9, 10]], dtype=tf.float32)\n",
    "C = A @ B"
   ]
  },
  {
   "cell_type": "code",
   "execution_count": 40,
   "id": "ecbdff9b-3636-43bf-ab1b-2769db722a42",
   "metadata": {},
   "outputs": [
    {
     "name": "stdout",
     "output_type": "stream",
     "text": [
      "[[21. 24. 27.]\n",
      " [47. 54. 61.]]\n"
     ]
    }
   ],
   "source": [
    "with tf.Session():\n",
    "    print(C.eval())"
   ]
  },
  {
   "cell_type": "markdown",
   "id": "3a57ed0d-b409-4c7e-baaa-4c1317347d07",
   "metadata": {},
   "source": [
    "Régression linéaire"
   ]
  },
  {
   "cell_type": "code",
   "execution_count": 41,
   "id": "aed6126c-5f63-47b7-86a5-ba8192735ca0",
   "metadata": {},
   "outputs": [],
   "source": [
    "from sklearn.datasets import fetch_california_housing\n",
    "housing = fetch_california_housing()"
   ]
  },
  {
   "cell_type": "code",
   "execution_count": 42,
   "id": "4a5390b9-1e76-475b-8d46-2cf930c6db95",
   "metadata": {},
   "outputs": [],
   "source": [
    "import numpy as np\n",
    "m, n = housing.data.shape\n",
    "housing_data_plus_bias = np.c_[np.ones((m, 1)), housing.data]\n",
    "X = tf.constant(housing_data_plus_bias, dtype=tf.float32, name='X')\n",
    "y = tf.constant(housing.target.reshape(-1, 1), dtype=tf.float32, name='y') "
   ]
  },
  {
   "cell_type": "code",
   "execution_count": 43,
   "id": "57fdd3c3-2842-4d30-aa13-0dbb3152e430",
   "metadata": {},
   "outputs": [],
   "source": [
    "XT = tf.transpose(X)\n",
    "theta = tf.matmul(tf.matmul(tf.matrix_inverse(tf.matmul(XT,X)),XT),y)"
   ]
  },
  {
   "cell_type": "code",
   "execution_count": 44,
   "id": "3685ebef-afe1-4833-9713-a3b92e2cb185",
   "metadata": {},
   "outputs": [
    {
     "name": "stdout",
     "output_type": "stream",
     "text": [
      "[[-3.7225266e+01]\n",
      " [ 4.3568176e-01]\n",
      " [ 9.3872147e-03]\n",
      " [-1.0598953e-01]\n",
      " [ 6.3939309e-01]\n",
      " [-4.1104349e-06]\n",
      " [-3.7780963e-03]\n",
      " [-4.2437303e-01]\n",
      " [-4.3785891e-01]]\n"
     ]
    }
   ],
   "source": [
    "with tf.Session():\n",
    "    theta.value = theta.eval()\n",
    "print(theta.value)"
   ]
  },
  {
   "cell_type": "markdown",
   "id": "43c49d89-7b96-4000-a57c-73d6035d65e8",
   "metadata": {},
   "source": [
    "Descente de gradient"
   ]
  },
  {
   "cell_type": "code",
   "execution_count": 45,
   "id": "f8089464-3fa0-40aa-b195-cf9eb09d9d78",
   "metadata": {},
   "outputs": [],
   "source": [
    "# On normalise les données avant d'effecuer la descente de gradient\n",
    "from sklearn.preprocessing import StandardScaler\n",
    "scaler = StandardScaler()\n",
    "scaled_housing_data = scaler.fit_transform(housing.data)\n",
    "scaled_housing_data_plus_bias = np.c_[np.ones((m, 1)), scaled_housing_data]"
   ]
  },
  {
   "cell_type": "code",
   "execution_count": 46,
   "id": "6beb2d23-eaea-40b4-8d3d-c75362b83730",
   "metadata": {},
   "outputs": [
    {
     "name": "stdout",
     "output_type": "stream",
     "text": [
      "Epoch 0 MSE = 2.7544267\n",
      "Epoch 100 MSE = 0.63222194\n",
      "Epoch 200 MSE = 0.5727803\n",
      "Epoch 300 MSE = 0.5585008\n",
      "Epoch 400 MSE = 0.54907\n",
      "Epoch 500 MSE = 0.542288\n",
      "Epoch 600 MSE = 0.5373791\n",
      "Epoch 700 MSE = 0.533822\n",
      "Epoch 800 MSE = 0.53124255\n",
      "Epoch 900 MSE = 0.52937055\n",
      "best_theta:\n",
      "[[ 2.06855226e+00]\n",
      " [ 7.74078071e-01]\n",
      " [ 1.31192386e-01]\n",
      " [-1.17845066e-01]\n",
      " [ 1.64778143e-01]\n",
      " [ 7.44081801e-04]\n",
      " [-3.91945131e-02]\n",
      " [-8.61356556e-01]\n",
      " [-8.23479712e-01]]\n"
     ]
    }
   ],
   "source": [
    "n_epochs = 1000\n",
    "learning_rate = 0.01\n",
    "\n",
    "X = tf.constant(scaled_housing_data_plus_bias, dtype=tf.float32, name=\"X\")\n",
    "y = tf.constant(housing.target.reshape(-1, 1), dtype=tf.float32, name=\"y\")\n",
    "theta = tf.Variable(tf.random_uniform([n + 1, 1], -1.0, 1.0, seed=42), name=\"theta\")\n",
    "y_pred = tf.matmul(X, theta, name=\"predictions\")\n",
    "error = y_pred - y\n",
    "mse = tf.reduce_mean(tf.square(error), name=\"mse\")\n",
    "gradients = 2/m * tf.matmul(tf.transpose(X), error)\n",
    "training_op = tf.assign(theta, theta - learning_rate * gradients)\n",
    "\n",
    "init = tf.global_variables_initializer()\n",
    "\n",
    "with tf.Session() as sess:\n",
    "    sess.run(init)\n",
    "\n",
    "    for epoch in range(n_epochs):\n",
    "        if epoch % 100 == 0:\n",
    "            print(\"Epoch\", epoch, \"MSE =\", mse.eval())\n",
    "        sess.run(training_op)\n",
    "    \n",
    "    best_theta = theta.eval()\n",
    "\n",
    "print(\"best_theta:\")\n",
    "print(best_theta)"
   ]
  },
  {
   "cell_type": "code",
   "execution_count": 47,
   "id": "52608cda-fe99-4cf5-a0be-0f833100f229",
   "metadata": {},
   "outputs": [],
   "source": [
    "# Utilisation d'un optimiseur\n",
    "optimizer = tf.train.GradientDescentOptimizer(\n",
    "    learning_rate=learning_rate)\n",
    "training_op = optimizer.minimize(mse)"
   ]
  },
  {
   "cell_type": "code",
   "execution_count": 48,
   "id": "dffc485a-be77-422e-80ad-871a8cbd29f9",
   "metadata": {},
   "outputs": [],
   "source": [
    "# Autre optimisateur\n",
    "optimizer = tf.train.MomentumOptimizer(\n",
    "    learning_rate=learning_rate, momentum=0.9)"
   ]
  },
  {
   "cell_type": "code",
   "execution_count": 49,
   "id": "2981990a-fdcd-458f-a4d3-3c63a099ea1a",
   "metadata": {},
   "outputs": [
    {
     "name": "stdout",
     "output_type": "stream",
     "text": [
      "[[6. 7. 8.]]\n",
      "[[ 9. 10. 11.]\n",
      " [12. 13. 14.]]\n"
     ]
    }
   ],
   "source": [
    "A = tf.placeholder(tf.float32, shape=(None, 3))\n",
    "B = A + 5 \n",
    "with tf.Session():\n",
    "    B_val_1 = B.eval(feed_dict = {A : [[1, 2, 3]]})\n",
    "    B_val_2 = B.eval(feed_dict = {A : [[4, 5, 6], [7, 8, 9]]})\n",
    "print(B_val_1)\n",
    "print(B_val_2)"
   ]
  },
  {
   "cell_type": "code",
   "execution_count": 50,
   "id": "cb8fd6ec-42bd-4930-9b67-3087839a9c58",
   "metadata": {},
   "outputs": [
    {
     "name": "stdout",
     "output_type": "stream",
     "text": [
      "Best theta:\n",
      "[[ 2.070016  ]\n",
      " [ 0.8204561 ]\n",
      " [ 0.1173173 ]\n",
      " [-0.22739051]\n",
      " [ 0.3113402 ]\n",
      " [ 0.00353193]\n",
      " [-0.01126994]\n",
      " [-0.91643935]\n",
      " [-0.8795008 ]]\n"
     ]
    }
   ],
   "source": [
    "# Descente de gradient par mini-lots\n",
    "from datetime import datetime\n",
    "\n",
    "tf.reset_default_graph()\n",
    "\n",
    "now = datetime.utcnow().strftime(\"%Y%m%d%H%M%S\")\n",
    "root_logdir = \"tf_logs\"\n",
    "logdir = \"{}/run-{}/\".format(root_logdir, now)\n",
    "\n",
    "n_epochs = 10\n",
    "learning_rate = 0.01\n",
    "\n",
    "X = tf.placeholder(tf.float32, shape=(None, n + 1), name=\"X\")\n",
    "y = tf.placeholder(tf.float32, shape=(None, 1), name=\"y\")\n",
    "theta = tf.Variable(tf.random_uniform([n + 1, 1], -1.0, 1.0, seed=42), name=\"theta\")\n",
    "y_pred = tf.matmul(X, theta, name=\"predictions\")\n",
    "\n",
    "with tf.name_scope(\"loss\") as scope:\n",
    "    error = y_pred - y \n",
    "    mse = tf.reduce_mean(tf.square(error), name='mse')\n",
    "\n",
    "optimizer = tf.train.GradientDescentOptimizer(learning_rate=learning_rate)\n",
    "training_op = optimizer.minimize(mse)\n",
    "\n",
    "batch_size = 100\n",
    "n_batches = int(np.ceil(m / batch_size))\n",
    "\n",
    "init = tf.global_variables_initializer()\n",
    "saver = tf.train.Saver()  # Pour sauvegarder le modèle\n",
    "\n",
    "def fetch_batch(epoch, batch_index, batch_size):\n",
    "    np.random.seed(epoch * n_batches + batch_index)  \n",
    "    indices = np.random.randint(m, size=batch_size)  \n",
    "    X_batch = scaled_housing_data_plus_bias[indices] \n",
    "    y_batch = housing.target.reshape(-1, 1)[indices] \n",
    "    return X_batch, y_batch\n",
    "\n",
    "mse_summary = tf.summary.scalar('MSE', mse)\n",
    "summary_writer = tf.summary.FileWriter(logdir, tf.get_default_graph())\n",
    "\n",
    "with tf.Session() as sess:\n",
    "    sess.run(init)\n",
    "\n",
    "    for epoch in range(n_epochs):\n",
    "        for batch_index in range(n_batches):\n",
    "            X_batch, y_batch = fetch_batch(epoch, batch_index, batch_size)\n",
    "            if batch_index % 10 == 0:\n",
    "                summary_str = mse_summary.eval(feed_dict={X: X_batch, y: y_batch})\n",
    "                step = epoch * n_batches + batch_index\n",
    "                summary_writer.add_summary(summary_str, step)\n",
    "            sess.run(training_op, feed_dict={X: X_batch, y: y_batch})\n",
    "\n",
    "    best_theta = theta.eval()\n",
    "\n",
    "    saver.save(sess, \"/tmp/my_model_final.ckpt\")\n",
    "\n",
    "summary_writer.flush()\n",
    "summary_writer.close()\n",
    "print(\"Best theta:\")\n",
    "print(best_theta)"
   ]
  },
  {
   "cell_type": "code",
   "execution_count": 51,
   "id": "29b3ef96-3976-4b4d-b67d-dcaf33bcc59b",
   "metadata": {},
   "outputs": [
    {
     "name": "stdout",
     "output_type": "stream",
     "text": [
      "INFO:tensorflow:Restoring parameters from /tmp/my_model_final.ckpt\n",
      "[[ 2.070016  ]\n",
      " [ 0.8204561 ]\n",
      " [ 0.1173173 ]\n",
      " [-0.22739051]\n",
      " [ 0.3113402 ]\n",
      " [ 0.00353193]\n",
      " [-0.01126994]\n",
      " [-0.91643935]\n",
      " [-0.8795008 ]]\n"
     ]
    }
   ],
   "source": [
    "# Restauration du modèle\n",
    "saver = tf.train.import_meta_graph(\"/tmp/my_model_final.ckpt.meta\")\n",
    "with tf.Session() as sess:\n",
    "    saver.restore(sess, \"/tmp/my_model_final.ckpt\")\n",
    "    best_theta_restored = theta.eval()\n",
    "    print(best_theta_restored)"
   ]
  },
  {
   "cell_type": "markdown",
   "id": "c90ae3dc",
   "metadata": {},
   "source": [
    "Graphe et courbes d'apprentissage avec TensorBoard"
   ]
  },
  {
   "cell_type": "code",
   "execution_count": 53,
   "id": "8fffda78",
   "metadata": {},
   "outputs": [],
   "source": [
    "# Commande à exécuter dans un terminal\n",
    "# tensorboard --logdir tf_logs/\n",
    "# Puis ouvrir un navigateur et taper l'adresse http://localhost:6006/"
   ]
  },
  {
   "cell_type": "markdown",
   "id": "6a972c7b-2c92-4891-99a8-d8a3c8a2e6c8",
   "metadata": {},
   "source": []
  }
 ],
 "metadata": {
  "kernelspec": {
   "display_name": "Python 3 (ipykernel)",
   "language": "python",
   "name": "python3"
  },
  "language_info": {
   "codemirror_mode": {
    "name": "ipython",
    "version": 3
   },
   "file_extension": ".py",
   "mimetype": "text/x-python",
   "name": "python",
   "nbconvert_exporter": "python",
   "pygments_lexer": "ipython3",
   "version": "3.8.10"
  }
 },
 "nbformat": 4,
 "nbformat_minor": 5
}
